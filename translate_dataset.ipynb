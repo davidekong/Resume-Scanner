{
 "cells": [
  {
   "cell_type": "code",
   "execution_count": 22,
   "metadata": {},
   "outputs": [
    {
     "name": "stderr",
     "output_type": "stream",
     "text": [
      "c:\\Users\\HP\\Desktop\\Resume Scanner\\venv\\Lib\\site-packages\\transformers\\models\\marian\\tokenization_marian.py:175: UserWarning: Recommended: pip install sacremoses.\n",
      "  warnings.warn(\"Recommended: pip install sacremoses.\")\n"
     ]
    }
   ],
   "source": [
    "from transformers import MarianMTModel, MarianTokenizer\n",
    "\n",
    "# Load the Chinese-to-English model\n",
    "model_name = \"Helsinki-NLP/opus-mt-zh-en\"\n",
    "tokenizer = MarianTokenizer.from_pretrained(model_name)\n",
    "model = MarianMTModel.from_pretrained(model_name)\n",
    "\n",
    "def translate_text(text):\n",
    "    # Skip if it’s not a string or already English-like (e.g., dates, numbers)\n",
    "    if not isinstance(text, str) or text.replace(\".\", \"\").isdigit():\n",
    "        return text\n",
    "    # Tokenize and translate\n",
    "    inputs = tokenizer(text, return_tensors=\"pt\", padding=True, truncation=True, max_length=512)\n",
    "    translated = model.generate(**inputs)\n",
    "    return tokenizer.decode(translated[0], skip_special_tokens=True)"
   ]
  },
  {
   "cell_type": "code",
   "execution_count": 25,
   "metadata": {},
   "outputs": [
    {
     "data": {
      "text/plain": [
       "'Functions'"
      ]
     },
     "execution_count": 25,
     "metadata": {},
     "output_type": "execute_result"
    }
   ],
   "source": [
    "translate_text(\"职务\")"
   ]
  },
  {
   "cell_type": "code",
   "execution_count": 4,
   "metadata": {},
   "outputs": [],
   "source": [
    "from rouge_score import rouge_scorer\n",
    "\n",
    "def compute_rouge(reference_text, generated_text):\n",
    "    \"\"\"\n",
    "    Compute ROUGE scores between two texts.\n",
    "    \n",
    "    Args:\n",
    "        reference_text (str): The ground truth or reference text (e.g., dataset \"answer\").\n",
    "        generated_text (str): The text to evaluate (e.g., model output).\n",
    "    \n",
    "    Returns:\n",
    "        dict: ROUGE-1, ROUGE-2, and ROUGE-L scores with precision, recall, and f1.\n",
    "    \"\"\"\n",
    "    # Initialize the scorer with ROUGE-1, ROUGE-2, and ROUGE-L\n",
    "    scorer = rouge_scorer.RougeScorer(['rouge1', 'rouge2', 'rougeL'], use_stemmer=True)\n",
    "    \n",
    "    # Compute scores\n",
    "    scores = scorer.score(reference_text, generated_text)\n",
    "    \n",
    "    # Format the results\n",
    "    result = {\n",
    "        \"ROUGE-1\": {\n",
    "            \"precision\": scores[\"rouge1\"].precision,\n",
    "            \"recall\": scores[\"rouge1\"].recall,\n",
    "            \"f1\": scores[\"rouge1\"].fmeasure\n",
    "        },\n",
    "        \"ROUGE-2\": {\n",
    "            \"precision\": scores[\"rouge2\"].precision,\n",
    "            \"recall\": scores[\"rouge2\"].recall,\n",
    "            \"f1\": scores[\"rouge2\"].fmeasure\n",
    "        },\n",
    "        \"ROUGE-L\": {\n",
    "            \"precision\": scores[\"rougeL\"].precision,\n",
    "            \"recall\": scores[\"rougeL\"].recall,\n",
    "            \"f1\": scores[\"rougeL\"].fmeasure\n",
    "        }\n",
    "    }\n",
    "    \n",
    "    return result"
   ]
  },
  {
   "cell_type": "code",
   "execution_count": 5,
   "metadata": {},
   "outputs": [
    {
     "data": {
      "text/plain": [
       "{'ROUGE-1': {'precision': 0.7913669064748201,\n",
       "  'recall': 0.8396946564885496,\n",
       "  'f1': 0.8148148148148148},\n",
       " 'ROUGE-2': {'precision': 0.5507246376811594,\n",
       "  'recall': 0.5846153846153846,\n",
       "  'f1': 0.5671641791044777},\n",
       " 'ROUGE-L': {'precision': 0.7553956834532374,\n",
       "  'recall': 0.8015267175572519,\n",
       "  'f1': 0.7777777777777777}}"
      ]
     },
     "execution_count": 5,
     "metadata": {},
     "output_type": "execute_result"
    }
   ],
   "source": [
    "ref_text = \"Technical capabilities: 6 points, explanation: Candidates participated in the development and improvement of software projects, showing certain technical capabilities, but may need to be further improved in solving complex technical problems independently. Project management capabilities: 5 points, explanation: assist in the completion of the technical environment construction of the project, but have limited experience in project planning and resource management. Technical support capabilities: 7 points, explanation: Responsible for technical research and technical support, showing good problem solving and customer service capabilities. Compliance with technical specifications: 8 points, explanation: performance in ensuring compliance with technical specifications in project development, showing good professional qualities. Technology platform construction ability: 6 points, explanation: assist in building technology platform according to needs, but may require more practice and learning in innovation and optimization of existing platforms.\"\n",
    "gen_text = translate_text(\"技术能力：6分, 解释：候选人参与了软件项目的开发和改进，显示出一定的技术能力，但在独立解决复杂技术问题方面可能需要进一步提升。项目管理能力：5分, 解释：协助完成项目的技术环境构建，但在项目规划和资源管理方面的经验有限。技术支持能力：7分, 解释：负责技术调研和技术支持，表现出良好的问题解决和客户服务能力。遵守技术规范：8分, 解释：在保障项目开发中的技术规范遵守方面表现出色，显示出良好的专业素养。技术平台构建能力：6分, 解释：根据需求协助构筑技术平台，但在创新和优化现有平台方面可能需要更多的实践和学习。\")\n",
    "\n",
    "compute_rouge(ref_text, gen_text)"
   ]
  },
  {
   "cell_type": "code",
   "execution_count": 6,
   "metadata": {},
   "outputs": [
    {
     "data": {
      "text/html": [
       "<div>\n",
       "<style scoped>\n",
       "    .dataframe tbody tr th:only-of-type {\n",
       "        vertical-align: middle;\n",
       "    }\n",
       "\n",
       "    .dataframe tbody tr th {\n",
       "        vertical-align: top;\n",
       "    }\n",
       "\n",
       "    .dataframe thead th {\n",
       "        text-align: right;\n",
       "    }\n",
       "</style>\n",
       "<table border=\"1\" class=\"dataframe\">\n",
       "  <thead>\n",
       "    <tr style=\"text-align: right;\">\n",
       "      <th></th>\n",
       "      <th>question</th>\n",
       "      <th>answer</th>\n",
       "    </tr>\n",
       "  </thead>\n",
       "  <tbody>\n",
       "    <tr>\n",
       "      <th>0</th>\n",
       "      <td>{'工作时间': '2003.09-2011.08', '工作内容': '1、参与软件项目的...</td>\n",
       "      <td>技术能力：6分, 解释：候选人参与了软件项目的开发和改进，显示出一定的技术能力，但在独立解决...</td>\n",
       "    </tr>\n",
       "    <tr>\n",
       "      <th>1</th>\n",
       "      <td>{'工作时间': '2006.04-2013.04', '工作内容': '1、紫米品牌各省区...</td>\n",
       "      <td>销售能力：8分, 解释：候选人成功开发和维护了多个区域代理和直供客户，显示出较强的销售技巧和...</td>\n",
       "    </tr>\n",
       "    <tr>\n",
       "      <th>2</th>\n",
       "      <td>{'工作时间': '1990.10-2016.02', '工作内容': '1、负责线下校区地...</td>\n",
       "      <td>营销策划与执行能力：8分, 解释：候选人能够有效地策划和执行线下活动，显示出较强的市场推广能...</td>\n",
       "    </tr>\n",
       "    <tr>\n",
       "      <th>3</th>\n",
       "      <td>{'工作时间': '2005.06-2015.10', '工作内容': '1、带领销售团队达...</td>\n",
       "      <td>销售能力：6分, 解释：候选人能够带领团队达成销售业绩指标，但在销售策略和市场拓展方面可能需...</td>\n",
       "    </tr>\n",
       "    <tr>\n",
       "      <th>4</th>\n",
       "      <td>{'工作时间': '2000/01-2019/09', '工作内容': '1、通过多渠道添加...</td>\n",
       "      <td>沟通能力：8分, 解释：候选人能够有效地通过电话和面对面沟通与客户建立联系，表现出较强的沟通...</td>\n",
       "    </tr>\n",
       "    <tr>\n",
       "      <th>...</th>\n",
       "      <td>...</td>\n",
       "      <td>...</td>\n",
       "    </tr>\n",
       "    <tr>\n",
       "      <th>1560</th>\n",
       "      <td>{'工作时间': '2009.02-2017.10', '工作内容': '1、参与制订公司营...</td>\n",
       "      <td>市场分析与策略制定能力：8分, 解释：候选人能够有效地分析市场环境并制定相应的营销策略，但在...</td>\n",
       "    </tr>\n",
       "    <tr>\n",
       "      <th>1561</th>\n",
       "      <td>{'工作时间': '2009/01-2016/02', '工作内容': '1、负责公司官网及...</td>\n",
       "      <td>内容创作与编辑能力：9分, 解释：候选人展现出高水平的文案撰写和内容编辑能力，能够有效提升品...</td>\n",
       "    </tr>\n",
       "    <tr>\n",
       "      <th>1562</th>\n",
       "      <td>{'工作时间': '1995年11月-2012年04月', '工作内容': '1、接受公司在...</td>\n",
       "      <td>适应能力（接受区域和工作调整）: 评分依据：调整的灵活性和适应新环境的速度。分数：8/10 ...</td>\n",
       "    </tr>\n",
       "    <tr>\n",
       "      <th>1563</th>\n",
       "      <td>{'工作时间': '1993/04-2013/06', '工作内容': '1.专注于为用户提...</td>\n",
       "      <td>技术能力（嵌入式软件驱动开发）: 此岗位要求深厚的技术背景和编程能力。评分依据：技术问题的解...</td>\n",
       "    </tr>\n",
       "    <tr>\n",
       "      <th>1564</th>\n",
       "      <td>{'工作时间': '1998/01-2012/02', '工作内容': '1、根据酒店的发展...</td>\n",
       "      <td>市场营销能力：8分, 解释：候选人能够有效地制定和实施营销策略，但在创新营销方法上可能需要进...</td>\n",
       "    </tr>\n",
       "  </tbody>\n",
       "</table>\n",
       "<p>1565 rows × 2 columns</p>\n",
       "</div>"
      ],
      "text/plain": [
       "                                               question  \\\n",
       "0     {'工作时间': '2003.09-2011.08', '工作内容': '1、参与软件项目的...   \n",
       "1     {'工作时间': '2006.04-2013.04', '工作内容': '1、紫米品牌各省区...   \n",
       "2     {'工作时间': '1990.10-2016.02', '工作内容': '1、负责线下校区地...   \n",
       "3     {'工作时间': '2005.06-2015.10', '工作内容': '1、带领销售团队达...   \n",
       "4     {'工作时间': '2000/01-2019/09', '工作内容': '1、通过多渠道添加...   \n",
       "...                                                 ...   \n",
       "1560  {'工作时间': '2009.02-2017.10', '工作内容': '1、参与制订公司营...   \n",
       "1561  {'工作时间': '2009/01-2016/02', '工作内容': '1、负责公司官网及...   \n",
       "1562  {'工作时间': '1995年11月-2012年04月', '工作内容': '1、接受公司在...   \n",
       "1563  {'工作时间': '1993/04-2013/06', '工作内容': '1.专注于为用户提...   \n",
       "1564  {'工作时间': '1998/01-2012/02', '工作内容': '1、根据酒店的发展...   \n",
       "\n",
       "                                                 answer  \n",
       "0     技术能力：6分, 解释：候选人参与了软件项目的开发和改进，显示出一定的技术能力，但在独立解决...  \n",
       "1     销售能力：8分, 解释：候选人成功开发和维护了多个区域代理和直供客户，显示出较强的销售技巧和...  \n",
       "2     营销策划与执行能力：8分, 解释：候选人能够有效地策划和执行线下活动，显示出较强的市场推广能...  \n",
       "3     销售能力：6分, 解释：候选人能够带领团队达成销售业绩指标，但在销售策略和市场拓展方面可能需...  \n",
       "4     沟通能力：8分, 解释：候选人能够有效地通过电话和面对面沟通与客户建立联系，表现出较强的沟通...  \n",
       "...                                                 ...  \n",
       "1560  市场分析与策略制定能力：8分, 解释：候选人能够有效地分析市场环境并制定相应的营销策略，但在...  \n",
       "1561  内容创作与编辑能力：9分, 解释：候选人展现出高水平的文案撰写和内容编辑能力，能够有效提升品...  \n",
       "1562  适应能力（接受区域和工作调整）: 评分依据：调整的灵活性和适应新环境的速度。分数：8/10 ...  \n",
       "1563  技术能力（嵌入式软件驱动开发）: 此岗位要求深厚的技术背景和编程能力。评分依据：技术问题的解...  \n",
       "1564  市场营销能力：8分, 解释：候选人能够有效地制定和实施营销策略，但在创新营销方法上可能需要进...  \n",
       "\n",
       "[1565 rows x 2 columns]"
      ]
     },
     "execution_count": 6,
     "metadata": {},
     "output_type": "execute_result"
    }
   ],
   "source": [
    "import pandas as pd\n",
    "\n",
    "df = pd.read_json(\"hf://datasets/pandalla/datatager_llm_resume_scoring/llm_resume_scoring.json\", lines=True)\n",
    "df"
   ]
  },
  {
   "cell_type": "code",
   "execution_count": 7,
   "metadata": {},
   "outputs": [
    {
     "data": {
      "text/plain": [
       "{'工作时间': '2003.09-2011.08',\n",
       " '工作内容': '1、参与软件项目的开发或者改进；2、负责相关的技术调研及技术支持；3、协助完成项目开发及管理需要的技术环境构建；4、保障项目开发中的技术规范遵守；5、根据需求协助构筑相关的技术平台；',\n",
       " '职务': '普工',\n",
       " '工作单位': '厦门塔斯曼生物工程有限公司'}"
      ]
     },
     "execution_count": 7,
     "metadata": {},
     "output_type": "execute_result"
    }
   ],
   "source": [
    "df['question'][0]"
   ]
  },
  {
   "cell_type": "code",
   "execution_count": null,
   "metadata": {},
   "outputs": [
    {
     "data": {
      "text/plain": [
       "{'Working hours': '2003.09-2011.08',\n",
       " 'Work content': 'To participate in the development or improvement of software projects; to be responsible for relevant technical research and technical support; to assist in the completion of the construction of the technological environment for project development and management needs; to guarantee technical compliance in project development; and to assist in the construction of relevant technology platforms, as required;',\n",
       " 'Functions': 'Popular.',\n",
       " '_Other Organiser': 'Xiamen Tasman Biological Engineering Co. Ltd.'}"
      ]
     },
     "execution_count": 11,
     "metadata": {},
     "output_type": "execute_result"
    }
   ],
   "source": [
    "def translate_c1_record(record: dict):\n",
    "    translated_c1_record = {}\n",
    "    i = 0\n",
    "    for key, value in record.items():\n",
    "        if i != 1:\n",
    "            translated_c1_record[translate_text(key)] = translate_text(value)\n",
    "        else:\n",
    "            \n",
    "    return(translated_c1_record)\n",
    "\n",
    "translate_c1_record(df['question'][0])"
   ]
  }
 ],
 "metadata": {
  "kernelspec": {
   "display_name": "venv",
   "language": "python",
   "name": "python3"
  },
  "language_info": {
   "codemirror_mode": {
    "name": "ipython",
    "version": 3
   },
   "file_extension": ".py",
   "mimetype": "text/x-python",
   "name": "python",
   "nbconvert_exporter": "python",
   "pygments_lexer": "ipython3",
   "version": "3.12.3"
  }
 },
 "nbformat": 4,
 "nbformat_minor": 2
}
